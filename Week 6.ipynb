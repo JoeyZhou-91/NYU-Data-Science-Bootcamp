{
 "cells": [
  {
   "cell_type": "markdown",
   "metadata": {},
   "source": [
    "# Assignment 6\n"
   ]
  },
  {
   "cell_type": "code",
   "execution_count": 9,
   "metadata": {
    "id": "4NigFWrcvkfz"
   },
   "outputs": [
    {
     "ename": "ModuleNotFoundError",
     "evalue": "No module named 'pandas'",
     "output_type": "error",
     "traceback": [
      "\u001b[1;31m---------------------------------------------------------------------------\u001b[0m",
      "\u001b[1;31mModuleNotFoundError\u001b[0m                       Traceback (most recent call last)",
      "Cell \u001b[1;32mIn[9], line 2\u001b[0m\n\u001b[0;32m      1\u001b[0m \u001b[38;5;66;03m#Libraries\u001b[39;00m\n\u001b[1;32m----> 2\u001b[0m \u001b[38;5;28;01mimport\u001b[39;00m \u001b[38;5;21;01mpandas\u001b[39;00m \u001b[38;5;28;01mas\u001b[39;00m \u001b[38;5;21;01mpd\u001b[39;00m\n\u001b[0;32m      3\u001b[0m \u001b[38;5;28;01mimport\u001b[39;00m \u001b[38;5;21;01mnumpy\u001b[39;00m \u001b[38;5;28;01mas\u001b[39;00m \u001b[38;5;21;01mnp\u001b[39;00m\n\u001b[0;32m      4\u001b[0m \u001b[38;5;28;01mimport\u001b[39;00m \u001b[38;5;21;01mseaborn\u001b[39;00m \u001b[38;5;28;01mas\u001b[39;00m \u001b[38;5;21;01msns\u001b[39;00m\n",
      "\u001b[1;31mModuleNotFoundError\u001b[0m: No module named 'pandas'"
     ]
    }
   ],
   "source": [
    "#Libraries\n",
    "import pandas as pd\n",
    "import numpy as np\n",
    "import seaborn as sns\n",
    "import matplotlib.pyplot as plt\n",
    "\n",
    "from sklearn.preprocessing import OneHotEncoder, StandardScaler\n",
    "from sklearn.model_selection import train_test_split\n",
    "\n",
    "from sklearn.linear_model import LinearRegression\n",
    "from sklearn.metrics import mean_absolute_error, mean_squared_error\n",
    "import warnings\n",
    "warnings.filterwarnings('ignore')\n",
    "pd.set_option(\"display.max_columns\", 101)"
   ]
  },
  {
   "cell_type": "markdown",
   "metadata": {
    "id": "ZlKNC5CVW-2u"
   },
   "source": [
    "###Data Description"
   ]
  },
  {
   "cell_type": "markdown",
   "metadata": {
    "id": "8KaPON2AXFij"
   },
   "source": [
    "Column | Description\n",
    ":---|:---\n",
    "`id` | Record index\n",
    "`timestamp` | Datetime (YYYY:MM:DD HH:MM:SS) when data was collected\n",
    "`country` | Current country of employment\n",
    "`employment_status` | Whether a candidate is Full time, Part time, Independent or freelancer or company owner\n",
    "`job_title` | Current job title of the candidate\n",
    "`job_years` | Total job experience (in Years)\n",
    "`is_manager` | Whether the candidate holds a managerial position or not (Yes or No)\n",
    "`hours_per_week` | No. of hours per day committed to the current job\n",
    "`telecommute_days_per_week` | No. of telecommuting days per week (working from home)\n",
    "`education` | The highest degree in education the candidate has received\n",
    "`is_education_computer_related` | Is the education related to the field of computer science (Yes or No)\n",
    "`certifications` | Does the candidate have any relevant certifications (Yes or No)\n",
    "`salary` | Monthly Salary (in US $$)"
   ]
  },
  {
   "cell_type": "code",
   "execution_count": null,
   "metadata": {
    "id": "8cdaWna0UZQg"
   },
   "outputs": [],
   "source": [
    "# Dataset is already loaded below\n",
    "data = pd.read_csv(\"employee.csv\")"
   ]
  },
  {
   "cell_type": "code",
   "execution_count": null,
   "metadata": {
    "colab": {
     "base_uri": "https://localhost:8080/"
    },
    "id": "BWbdq93gXkXJ",
    "outputId": "92d8628d-0e45-4dd7-b1b0-dc0354c6ee6c"
   },
   "outputs": [],
   "source": [
    "# Dimensions of training data\n",
    "data.shape"
   ]
  },
  {
   "cell_type": "code",
   "execution_count": null,
   "metadata": {
    "colab": {
     "base_uri": "https://localhost:8080/",
     "height": 206
    },
    "id": "K6vQBflFXoFV",
    "outputId": "ccdeb8cb-5262-4771-f7fe-e98c5df4d2ab"
   },
   "outputs": [],
   "source": [
    "# Print first few rows of data\n",
    "data.head()"
   ]
  },
  {
   "cell_type": "code",
   "execution_count": null,
   "metadata": {
    "id": "YL6xVdbbXqfn"
   },
   "outputs": [],
   "source": [
    "# drop id, timestamp and country columns\n",
    "data = data.drop(columns=['id', 'timestamp','country'])"
   ]
  },
  {
   "cell_type": "code",
   "execution_count": null,
   "metadata": {
    "colab": {
     "base_uri": "https://localhost:8080/"
    },
    "id": "Lv9DHPqAXu8r",
    "outputId": "ff241b52-4150-4a22-a21e-87ed08b575d2"
   },
   "outputs": [],
   "source": [
    "# Explore columns\n",
    "data.columns"
   ]
  },
  {
   "cell_type": "code",
   "execution_count": null,
   "metadata": {
    "id": "y1gJSNOwXx7W"
   },
   "outputs": [],
   "source": [
    "# replace NANs in hours_per_week with median value of the column\n",
    "data.loc[data['hours_per_week'].isna(), 'hours_per_week'] = data['hours_per_week'].median()\n",
    "data.loc[data['telecommute_days_per_week'].isna(), 'telecommute_days_per_week'] = data['telecommute_days_per_week'].median()"
   ]
  },
  {
   "cell_type": "code",
   "execution_count": null,
   "metadata": {
    "id": "uG7bBueOYhUn"
   },
   "outputs": [],
   "source": [
    "#Handling null values in categorical columns\n",
    "data = data.dropna()"
   ]
  },
  {
   "cell_type": "code",
   "execution_count": null,
   "metadata": {
    "colab": {
     "base_uri": "https://localhost:8080/"
    },
    "id": "MfMmarOqYlSn",
    "outputId": "9c54d328-4d41-4463-bb9f-ab6ec47665de"
   },
   "outputs": [],
   "source": [
    "data.info()"
   ]
  },
  {
   "cell_type": "markdown",
   "metadata": {
    "id": "k4nq6pPZYuE0"
   },
   "source": [
    "###Data Visualization :"
   ]
  },
  {
   "cell_type": "markdown",
   "metadata": {
    "id": "zLlD_XEzf4wN"
   },
   "source": [
    "## Feature Encoding and Normalization\n",
    "\n",
    "Before training the model, we should perform one-hot encoding for all categorical/discrete variables, normalize continuous variables and then combine all data to form the training set."
   ]
  },
  {
   "cell_type": "code",
   "execution_count": null,
   "metadata": {
    "colab": {
     "base_uri": "https://localhost:8080/",
     "height": 206
    },
    "id": "ubPm1HOaZfJu",
    "outputId": "92c697e6-b7e2-4635-d0b7-c58bbd1dc3a8"
   },
   "outputs": [],
   "source": [
    "# create another copy of dataset and append encoded features to it\n",
    "data_train = data.copy()\n",
    "data_train.head()"
   ]
  },
  {
   "cell_type": "code",
   "execution_count": null,
   "metadata": {
    "colab": {
     "base_uri": "https://localhost:8080/"
    },
    "id": "zK-yV-sUf8Qt",
    "outputId": "a2b6850a-2e68-4bf5-9af4-497e7b27f380"
   },
   "outputs": [],
   "source": [
    "# select categorical features\n",
    "cat_cols = [c for c in data_train.columns if data_train[c].dtype == 'object'\n",
    "            and c not in ['is_manager', 'certifications']]\n",
    "cat_data = data_train[cat_cols]\n",
    "cat_cols"
   ]
  },
  {
   "cell_type": "code",
   "execution_count": null,
   "metadata": {
    "id": "r7eaP7PSgApc"
   },
   "outputs": [],
   "source": [
    "#Encoding binary variables\n",
    "binary_cols = ['is_manager', 'certifications']\n",
    "for c in binary_cols:\n",
    "    data_train[c] = data_train[c].replace(to_replace=['Yes'], value=1)\n",
    "    data_train[c] = data_train[c].replace(to_replace=['No'], value=0)"
   ]
  },
  {
   "cell_type": "code",
   "execution_count": null,
   "metadata": {
    "colab": {
     "base_uri": "https://localhost:8080/"
    },
    "id": "YSa4SpUngEg_",
    "outputId": "fa98e8b4-3e03-4a90-d2cb-772941f74d3e"
   },
   "outputs": [],
   "source": [
    "final_data = pd.get_dummies(data_train, columns=cat_cols, drop_first= True,dtype=int)\n",
    "final_data.shape"
   ]
  },
  {
   "cell_type": "code",
   "execution_count": null,
   "metadata": {
    "colab": {
     "base_uri": "https://localhost:8080/"
    },
    "id": "9bqOF2TigICx",
    "outputId": "81f2e7a8-c5ce-4680-88d3-7bebe1fd8260"
   },
   "outputs": [],
   "source": [
    "final_data.columns"
   ]
  },
  {
   "cell_type": "code",
   "execution_count": null,
   "metadata": {
    "colab": {
     "base_uri": "https://localhost:8080/",
     "height": 478
    },
    "id": "ITmxj0mQgKxz",
    "outputId": "a4f3d864-3876-444a-9b85-e7cb428a540d"
   },
   "outputs": [],
   "source": [
    "final_data"
   ]
  },
  {
   "cell_type": "markdown",
   "metadata": {
    "id": "q3oRuBW4gTJv"
   },
   "source": [
    "## Train Test Split"
   ]
  },
  {
   "cell_type": "code",
   "execution_count": null,
   "metadata": {
    "colab": {
     "base_uri": "https://localhost:8080/"
    },
    "id": "P74hUqfxgNnh",
    "outputId": "a25a6f8c-560a-4658-9f71-45d0480695c9"
   },
   "outputs": [],
   "source": [
    "y = final_data['salary']\n",
    "X = final_data.drop(columns=['salary'])\n",
    "\n",
    "X_train, X_test, y_train, y_test = train_test_split(X, y, test_size=0.2)\n",
    "print(\"Training Set Dimensions:\", X_train.shape)\n",
    "print(\"Validation Set Dimensions:\", X_test.shape)"
   ]
  },
  {
   "cell_type": "markdown",
   "metadata": {
    "id": "p9rhnv44gb3z"
   },
   "source": [
    "## Pre-processing data"
   ]
  },
  {
   "cell_type": "markdown",
   "metadata": {
    "id": "gXiQUx0wWT5X"
   },
   "source": [
    "### Standardization (Z-score normalization):\n",
    "\n",
    "$$ x_{\\text{std}} = \\frac{x - \\mu}{\\sigma} $$\n",
    "\n",
    "- **Purpose:** Standardization transforms the data to have a mean of 0 and a standard deviation of 1.\n",
    "- **Properties:**\n",
    "  - Centers the data around 0.\n",
    "  - Rescales the data to have unit variance.\n",
    "  - Does not bound the data within a specific range.\n",
    "  - Preserves the shape of the distribution.\n",
    "- **Use Cases:**\n",
    "  - Algorithms that assume zero-centered data or require features to have a similar scale (e.g., gradient descent-based algorithms, support vector machines).\n",
    "  - When the distribution of the features is Gaussian-like.\n",
    "\n",
    "### Normalization (Min-Max scaling):\n",
    "\n",
    " $$ x_{\\text{norm}} = \\frac{x - \\min(x)}{\\max(x) - \\min(x)} $$\n",
    "\n",
    "- **Purpose:** Normalization scales the data to a fixed range, typically [0, 1] or [-1, 1].\n",
    "- **Properties:**\n",
    "  - Scales the data to a specified range.\n",
    "  - Shifts the data to start at 0.\n",
    "  - Does not affect the shape of the distribution.\n",
    "  - Preserves the relative relationships between data points.\n",
    "- **Use Cases:**\n",
    "  - Neural networks, especially those with activation functions sensitive to input magnitudes (e.g., sigmoid or tanh functions).\n",
    "  - When the distribution of the features is unknown or non-Gaussian.\n",
    "\n",
    "**Choosing Between Standardization and Normalization:**\n",
    "- Use standardization when the distribution of your features is approximately Gaussian-like and you want to center the data and rescale it to have unit variance.\n",
    "- Use normalization when the scale of your features is important, or when you need to bound the features within a specific range.\n",
    "- It's often beneficial to try both preprocessing techniques and evaluate their effects on model performance to determine which one works best for your specific dataset and model.\n"
   ]
  },
  {
   "cell_type": "code",
   "execution_count": null,
   "metadata": {
    "colab": {
     "base_uri": "https://localhost:8080/"
    },
    "id": "Qu7qjbRJgXHu",
    "outputId": "6a0eadb2-3160-436c-8793-5fec7fa8c75d"
   },
   "outputs": [],
   "source": [
    "# select numerical features\n",
    "num_cols = ['job_years','hours_per_week','telecommute_days_per_week']\n",
    "num_cols\n"
   ]
  },
  {
   "cell_type": "code",
   "execution_count": null,
   "metadata": {
    "id": "S_bXGF1yge_M"
   },
   "outputs": [],
   "source": [
    "# Apply standard scaling on numeric data\n",
    "scaler = StandardScaler()\n",
    "scaler.fit(X_train[num_cols])\n",
    "X_train[num_cols] = scaler.transform(X_train[num_cols])"
   ]
  },
  {
   "cell_type": "code",
   "execution_count": null,
   "metadata": {
    "colab": {
     "base_uri": "https://localhost:8080/",
     "height": 478
    },
    "id": "C1uh9nMAgkle",
    "outputId": "2ebf0ca4-8c9b-454f-a36b-4cd648e1d55f"
   },
   "outputs": [],
   "source": [
    "X_train"
   ]
  },
  {
   "cell_type": "code",
   "execution_count": null,
   "metadata": {
    "colab": {
     "base_uri": "https://localhost:8080/",
     "height": 75
    },
    "id": "v3INZbxvgnDL",
    "outputId": "53e2443b-e4f8-4e5f-ec9f-3a3bb676a87d"
   },
   "outputs": [],
   "source": [
    "#Fitting a Linear Regression Model\n",
    "reg=LinearRegression()\n",
    "reg.fit(X_train, y_train)"
   ]
  },
  {
   "cell_type": "code",
   "execution_count": null,
   "metadata": {
    "colab": {
     "base_uri": "https://localhost:8080/"
    },
    "id": "QEbjQJYth32q",
    "outputId": "af47e35c-ae28-4a85-d42d-91866f462e1b"
   },
   "outputs": [],
   "source": [
    "reg.coef_"
   ]
  },
  {
   "cell_type": "code",
   "execution_count": null,
   "metadata": {
    "colab": {
     "base_uri": "https://localhost:8080/"
    },
    "id": "b6jT9Vhxh675",
    "outputId": "f9ea6cab-4b55-4ed1-f462-cb12735513f0"
   },
   "outputs": [],
   "source": [
    "reg.intercept_"
   ]
  },
  {
   "cell_type": "markdown",
   "metadata": {
    "id": "s9aEdX3yiFxP"
   },
   "source": [
    "Just to recall\n",
    "\n",
    "$\\hat{y} = \\alpha + \\beta_1 * X_1 + \\beta_2 * X_2 +...$\n",
    "\n",
    "Our Final model is given by -\n",
    "\n",
    "$\\hat{y} = 6145.79 + 1.887 * X_1 + 7.22 * X_2 +...$\n"
   ]
  },
  {
   "cell_type": "code",
   "execution_count": null,
   "metadata": {
    "colab": {
     "base_uri": "https://localhost:8080/"
    },
    "id": "-RtdTxfXh_DD",
    "outputId": "f1a8de4a-d2b5-4d69-d611-e75ad0ea25a7"
   },
   "outputs": [],
   "source": [
    "# Normalized MSE (Dividing by mean)\n",
    "mean_squared_error(y_train,reg.predict(X_train))/np.mean(y_train)"
   ]
  },
  {
   "cell_type": "code",
   "execution_count": null,
   "metadata": {
    "id": "XmrtuGyLiLXu"
   },
   "outputs": [],
   "source": [
    "# Predict on the test data\n",
    "y_pred = reg.predict(X_test)"
   ]
  },
  {
   "cell_type": "code",
   "execution_count": null,
   "metadata": {
    "colab": {
     "base_uri": "https://localhost:8080/"
    },
    "id": "hE8AuSIhm3Ys",
    "outputId": "2bc1fe5a-f9b8-4ea0-e0b6-5de50cca9a4d"
   },
   "outputs": [],
   "source": [
    "#Evaluate the model on test data\n",
    "mse = mean_squared_error(y_pred, y_test)/np.mean(y_test)\n",
    "print(\"Mean Squared Error:\", mse)\n"
   ]
  },
  {
   "cell_type": "markdown",
   "metadata": {
    "id": "N9431Yjlfohd"
   },
   "source": [
    "*A lower MSE indicates that the model's predictions are closer to the actual values on average, while a higher MSE suggests larger errors between predictions and actual values.\n",
    "❗Pre-processing on Test data not done."
   ]
  },
  {
   "cell_type": "markdown",
   "metadata": {
    "id": "Qw0hpz3_jWUF"
   },
   "source": []
  },
  {
   "cell_type": "code",
   "execution_count": null,
   "metadata": {
    "id": "v0yAiqA5m_Jf"
   },
   "outputs": [],
   "source": [
    "#Q1. Preprocess Test data and get predictions"
   ]
  }
 ],
 "metadata": {
  "colab": {
   "provenance": []
  },
  "kernelspec": {
   "display_name": "Python 3",
   "name": "python3"
  },
  "language_info": {
   "codemirror_mode": {
    "name": "ipython",
    "version": 3
   },
   "file_extension": ".py",
   "mimetype": "text/x-python",
   "name": "python",
   "nbconvert_exporter": "python",
   "pygments_lexer": "ipython3",
   "version": "3.12.5"
  }
 },
 "nbformat": 4,
 "nbformat_minor": 0
}
